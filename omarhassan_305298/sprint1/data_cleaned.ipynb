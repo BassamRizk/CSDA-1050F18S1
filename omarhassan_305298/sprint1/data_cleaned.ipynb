{
 "cells": [
  {
   "cell_type": "code",
   "execution_count": 74,
   "metadata": {},
   "outputs": [],
   "source": [
    "import pandas as pd\n",
    "import numpy as np\n",
    "\n",
    "# read data to panads \n",
    "data = pd.read_csv(\"C:\\\\users\\\\omarh\\\\downloads\\\\CSDA 1050 Capstone\\\\Project\\\\2018 Data from Jeff\\\\podcast18.csv\") \n",
    "\n",
    "# read and convert data schema mapping into pandas\n",
    "data_schema = pd.read_fwf(\"C:\\\\users\\\\omarh\\\\downloads\\\\CSDA 1050 Capstone\\\\Project\\\\2018 Data from Jeff\\\\Dictionary AI058 CdnPodcast 2018 FINALJun16 CLIENT.txt\", header = 2)\n",
    "\n",
    "#dict of mapping drived from data schema file\n",
    "mapping = {}\n",
    "# getting unique mapping of varible and lable\n",
    "data_schema_unique = data_schema.groupby(['Variable', 'Label']).size().reset_index(name='Freq')\n",
    "# use mapping dict to create a key value pair with varible as key and lable as value\n",
    "for index, row in data_schema_unique.iterrows():\n",
    "    if row['Label']:\n",
    "        mapping[row['Variable']] = row['Label']\n",
    "\n",
    "# use the mapping dict to rename the varibles of data file with our newly created shchema\n",
    "data.rename(columns=mapping,inplace=True)\n",
    "\n",
    "data.head(3);"
   ]
  },
  {
   "cell_type": "code",
   "execution_count": 62,
   "metadata": {},
   "outputs": [],
   "source": [
    "#export to excel to explore\n",
    "data.to_csv('sample_clean.csv')"
   ]
  },
  {
   "cell_type": "code",
   "execution_count": 64,
   "metadata": {},
   "outputs": [
    {
     "data": {
      "text/html": [
       "<div>\n",
       "<style scoped>\n",
       "    .dataframe tbody tr th:only-of-type {\n",
       "        vertical-align: middle;\n",
       "    }\n",
       "\n",
       "    .dataframe tbody tr th {\n",
       "        vertical-align: top;\n",
       "    }\n",
       "\n",
       "    .dataframe thead th {\n",
       "        text-align: right;\n",
       "    }\n",
       "</style>\n",
       "<table border=\"1\" class=\"dataframe\">\n",
       "  <thead>\n",
       "    <tr style=\"text-align: right;\">\n",
       "      <th></th>\n",
       "      <th>arfpr .PROVINCE</th>\n",
       "      <th>arfgen .GENDER</th>\n",
       "      <th>qs2g .FREQUENCY-</th>\n",
       "      <th>counts</th>\n",
       "    </tr>\n",
       "  </thead>\n",
       "  <tbody>\n",
       "    <tr>\n",
       "      <th>0</th>\n",
       "      <td>Alberta</td>\n",
       "      <td>Female</td>\n",
       "      <td>About once a day</td>\n",
       "      <td>13</td>\n",
       "    </tr>\n",
       "    <tr>\n",
       "      <th>1</th>\n",
       "      <td>Alberta</td>\n",
       "      <td>Female</td>\n",
       "      <td>About once a month</td>\n",
       "      <td>2</td>\n",
       "    </tr>\n",
       "    <tr>\n",
       "      <th>2</th>\n",
       "      <td>Alberta</td>\n",
       "      <td>Female</td>\n",
       "      <td>About once a week</td>\n",
       "      <td>3</td>\n",
       "    </tr>\n",
       "    <tr>\n",
       "      <th>3</th>\n",
       "      <td>Alberta</td>\n",
       "      <td>Female</td>\n",
       "      <td>Every few days</td>\n",
       "      <td>7</td>\n",
       "    </tr>\n",
       "    <tr>\n",
       "      <th>4</th>\n",
       "      <td>Alberta</td>\n",
       "      <td>Female</td>\n",
       "      <td>Less than once a month</td>\n",
       "      <td>1</td>\n",
       "    </tr>\n",
       "    <tr>\n",
       "      <th>5</th>\n",
       "      <td>Alberta</td>\n",
       "      <td>Female</td>\n",
       "      <td>Never</td>\n",
       "      <td>5</td>\n",
       "    </tr>\n",
       "    <tr>\n",
       "      <th>6</th>\n",
       "      <td>Alberta</td>\n",
       "      <td>Female</td>\n",
       "      <td>Several times a day</td>\n",
       "      <td>66</td>\n",
       "    </tr>\n",
       "    <tr>\n",
       "      <th>7</th>\n",
       "      <td>Alberta</td>\n",
       "      <td>Male</td>\n",
       "      <td>About once a day</td>\n",
       "      <td>18</td>\n",
       "    </tr>\n",
       "  </tbody>\n",
       "</table>\n",
       "</div>"
      ],
      "text/plain": [
       "  arfpr .PROVINCE arfgen .GENDER        qs2g .FREQUENCY-  counts\n",
       "0         Alberta         Female        About once a day      13\n",
       "1         Alberta         Female      About once a month       2\n",
       "2         Alberta         Female       About once a week       3\n",
       "3         Alberta         Female          Every few days       7\n",
       "4         Alberta         Female  Less than once a month       1\n",
       "5         Alberta         Female                   Never       5\n",
       "6         Alberta         Female     Several times a day      66\n",
       "7         Alberta           Male        About once a day      18"
      ]
     },
     "execution_count": 64,
     "metadata": {},
     "output_type": "execute_result"
    }
   ],
   "source": [
    "data.groupby(['arfpr .PROVINCE','arfgen .GENDER','qs2g .FREQUENCY-']).size().reset_index(name='counts')"
   ]
  },
  {
   "cell_type": "code",
   "execution_count": 73,
   "metadata": {},
   "outputs": [],
   "source": [
    "#data transformation test\n",
    "pd.get_dummies(data, columns=['qs2g .FREQUENCY-']);"
   ]
  }
 ],
 "metadata": {
  "kernelspec": {
   "display_name": "Python 3",
   "language": "python",
   "name": "python3"
  },
  "language_info": {
   "codemirror_mode": {
    "name": "ipython",
    "version": 3
   },
   "file_extension": ".py",
   "mimetype": "text/x-python",
   "name": "python",
   "nbconvert_exporter": "python",
   "pygments_lexer": "ipython3",
   "version": "3.7.1"
  }
 },
 "nbformat": 4,
 "nbformat_minor": 2
}
